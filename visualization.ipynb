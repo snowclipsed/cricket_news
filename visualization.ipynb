{
 "cells": [
  {
   "cell_type": "code",
   "execution_count": 1,
   "metadata": {},
   "outputs": [],
   "source": [
    "import pandas as pd"
   ]
  },
  {
   "cell_type": "code",
   "execution_count": 2,
   "metadata": {},
   "outputs": [],
   "source": [
    "commentary = pd.read_csv('data/66169_commentary.csv')"
   ]
  },
  {
   "cell_type": "code",
   "execution_count": 3,
   "metadata": {},
   "outputs": [
    {
     "data": {
      "text/html": [
       "<div>\n",
       "<style scoped>\n",
       "    .dataframe tbody tr th:only-of-type {\n",
       "        vertical-align: middle;\n",
       "    }\n",
       "\n",
       "    .dataframe tbody tr th {\n",
       "        vertical-align: top;\n",
       "    }\n",
       "\n",
       "    .dataframe thead th {\n",
       "        text-align: right;\n",
       "    }\n",
       "</style>\n",
       "<table border=\"1\" class=\"dataframe\">\n",
       "  <thead>\n",
       "    <tr style=\"text-align: right;\">\n",
       "      <th></th>\n",
       "      <th>over_number</th>\n",
       "      <th>commentary_data</th>\n",
       "      <th>timestamp</th>\n",
       "    </tr>\n",
       "  </thead>\n",
       "  <tbody>\n",
       "    <tr>\n",
       "      <th>0</th>\n",
       "      <td>preview</td>\n",
       "      <td>\" The first chants of Dhoni-Dhoni!\" says a rel...</td>\n",
       "      <td>1680265850564</td>\n",
       "    </tr>\n",
       "    <tr>\n",
       "      <th>1</th>\n",
       "      <td>preview</td>\n",
       "      <td>Didn't expect to see so much yellow in Motera!</td>\n",
       "      <td>1680265850565</td>\n",
       "    </tr>\n",
       "    <tr>\n",
       "      <th>2</th>\n",
       "      <td>preview</td>\n",
       "      <td>No matter whatever the stadium may be, CSK fa...</td>\n",
       "      <td>1680265850670</td>\n",
       "    </tr>\n",
       "    <tr>\n",
       "      <th>3</th>\n",
       "      <td>preview</td>\n",
       "      <td>\"More yellow than blue in this stadium that's...</td>\n",
       "      <td>1680266544080</td>\n",
       "    </tr>\n",
       "    <tr>\n",
       "      <th>4</th>\n",
       "      <td>preview</td>\n",
       "      <td>Hari agree with that, but there is definitely...</td>\n",
       "      <td>1680266544081</td>\n",
       "    </tr>\n",
       "    <tr>\n",
       "      <th>...</th>\n",
       "      <td>...</td>\n",
       "      <td>...</td>\n",
       "      <td>...</td>\n",
       "    </tr>\n",
       "    <tr>\n",
       "      <th>410</th>\n",
       "      <td>post</td>\n",
       "      <td>Obviously very happy. We did put ourselves in...</td>\n",
       "      <td>1680287066499</td>\n",
       "    </tr>\n",
       "    <tr>\n",
       "      <th>411</th>\n",
       "      <td>post</td>\n",
       "      <td>So happy to get this crucial Man of the Match...</td>\n",
       "      <td>1680287468542</td>\n",
       "    </tr>\n",
       "    <tr>\n",
       "      <th>412</th>\n",
       "      <td>post</td>\n",
       "      <td>So happy to get this crucial Man of the Match...</td>\n",
       "      <td>1680287468542</td>\n",
       "    </tr>\n",
       "    <tr>\n",
       "      <th>413</th>\n",
       "      <td>post</td>\n",
       "      <td>That concludes a very entertaining IPL opener....</td>\n",
       "      <td>1680287653877</td>\n",
       "    </tr>\n",
       "    <tr>\n",
       "      <th>414</th>\n",
       "      <td>post</td>\n",
       "      <td>That concludes a very entertaining IPL opener....</td>\n",
       "      <td>1680287653877</td>\n",
       "    </tr>\n",
       "  </tbody>\n",
       "</table>\n",
       "<p>415 rows × 3 columns</p>\n",
       "</div>"
      ],
      "text/plain": [
       "    over_number                                    commentary_data  \\\n",
       "0       preview  \" The first chants of Dhoni-Dhoni!\" says a rel...   \n",
       "1       preview     Didn't expect to see so much yellow in Motera!   \n",
       "2       preview   No matter whatever the stadium may be, CSK fa...   \n",
       "3       preview   \"More yellow than blue in this stadium that's...   \n",
       "4       preview   Hari agree with that, but there is definitely...   \n",
       "..          ...                                                ...   \n",
       "410        post   Obviously very happy. We did put ourselves in...   \n",
       "411        post   So happy to get this crucial Man of the Match...   \n",
       "412        post   So happy to get this crucial Man of the Match...   \n",
       "413        post  That concludes a very entertaining IPL opener....   \n",
       "414        post  That concludes a very entertaining IPL opener....   \n",
       "\n",
       "         timestamp  \n",
       "0    1680265850564  \n",
       "1    1680265850565  \n",
       "2    1680265850670  \n",
       "3    1680266544080  \n",
       "4    1680266544081  \n",
       "..             ...  \n",
       "410  1680287066499  \n",
       "411  1680287468542  \n",
       "412  1680287468542  \n",
       "413  1680287653877  \n",
       "414  1680287653877  \n",
       "\n",
       "[415 rows x 3 columns]"
      ]
     },
     "execution_count": 3,
     "metadata": {},
     "output_type": "execute_result"
    }
   ],
   "source": [
    "commentary"
   ]
  },
  {
   "cell_type": "code",
   "execution_count": 4,
   "metadata": {},
   "outputs": [
    {
     "data": {
      "text/plain": [
       "array(['preview', '0.1', '0.2', '0.3', '0.4', '0.5', '0.6', '1.1', '1.2',\n",
       "       '1.3', '1.4', '1.5', '1.6', '2.1', '2.2', '2.3', '2.4', '2.5',\n",
       "       '2.6', '3.1', '3.2', '3.3', '3.4', '3.5', '3.6', '4.1', '4.2',\n",
       "       '4.3', '4.4', '4.5', '4.6', '5.1', '5.2', '5.3', '5.4', '5.5',\n",
       "       '5.6', '6.1', '6.2', '6.3', '6.4', '6.5', '6.6', '7.1', '7.2',\n",
       "       '7.3', '7.4', '7.5', '7.6', '8.1', '8.2', '8.3', '8.4', '8.5',\n",
       "       '8.6', '9.1', '9.2', '9.3', '9.4', '9.5', '9.6', '10.1', '10.2',\n",
       "       '10.3', '10.4', '10.5', '10.6', '11.1', '11.2', '11.3', '11.4',\n",
       "       '11.5', '11.6', '12.1', '12.2', '12.3', '12.4', '12.5', '12.6',\n",
       "       '13.1', '13.2', '13.3', '13.4', '13.5', '13.6', '14.1', '14.2',\n",
       "       '14.3', '14.4', '14.5', '14.6', '15.1', '15.2', '15.3', '15.4',\n",
       "       '15.5', '15.6', '16.1', '16.2', '16.3', '16.4', '16.5', '16.6',\n",
       "       '17.1', '17.2', '17.3', '17.4', '17.5', '17.6', '18.1', '18.2',\n",
       "       '18.3', '18.4', '18.5', '18.6', '19.1', '19.2', '19.3', '19.4',\n",
       "       '19.5', '19.6', 'post'], dtype=object)"
      ]
     },
     "execution_count": 4,
     "metadata": {},
     "output_type": "execute_result"
    }
   ],
   "source": [
    "commentary.over_number.unique()"
   ]
  },
  {
   "cell_type": "code",
   "execution_count": 5,
   "metadata": {},
   "outputs": [],
   "source": [
    "highlights = pd.read_csv('data/66169_highlights.csv')"
   ]
  },
  {
   "cell_type": "code",
   "execution_count": 6,
   "metadata": {},
   "outputs": [
    {
     "data": {
      "text/plain": [
       "array([ 1.1,  1.3,  2.2,  3.1,  3.2,  3.5,  4.3,  4.4,  4.5,  5.3,  5.4,\n",
       "        5.5,  6.3,  6.4,  6.6,  7.3,  7.4,  8.1,  8.4,  8.6, 10.6, 11.1,\n",
       "       11.3, 11.6, 12.3, 12.5, 14.3, 16.1, 16.4, 17.1, 17.4, 18.1, 18.2,\n",
       "       18.3, 19.3, 19.4,  1.2,  1.5,  2.5,  3.6,  4.1,  5.6,  7.5,  8.5,\n",
       "        9.3, 10.5, 11.2, 12.1, 13.2, 13.6, 14.5, 14.6, 15.3, 17.3, 17.5,\n",
       "       17.6, 18.4, 18.5, 19.1, 19.2])"
      ]
     },
     "execution_count": 6,
     "metadata": {},
     "output_type": "execute_result"
    }
   ],
   "source": [
    "highlights.over_number.unique()"
   ]
  },
  {
   "cell_type": "code",
   "execution_count": 7,
   "metadata": {},
   "outputs": [
    {
     "data": {
      "text/plain": [
       "\" Hardik Pandya to Gaikwad, , back of a length around middle, and it's been clipped away beautifully by Gaikwad! He hangs back and shows lovely wristwork to get it purring through midwicket \""
      ]
     },
     "execution_count": 7,
     "metadata": {},
     "output_type": "execute_result"
    }
   ],
   "source": [
    "highlights.commentary_data[0]"
   ]
  },
  {
   "cell_type": "code",
   "execution_count": 8,
   "metadata": {},
   "outputs": [
    {
     "data": {
      "text/plain": [
       "\" Hardik Pandya to Gaikwad, , back of a length around middle, and it's been clipped away beautifully by Gaikwad! He hangs back and shows lovely wristwork to get it purring through midwicket \""
      ]
     },
     "execution_count": 8,
     "metadata": {},
     "output_type": "execute_result"
    }
   ],
   "source": [
    "commentary.commentary_data[39]"
   ]
  },
  {
   "cell_type": "code",
   "execution_count": 9,
   "metadata": {},
   "outputs": [],
   "source": [
    "match_info = pd.read_csv('data/66169_match_info.csv')"
   ]
  },
  {
   "cell_type": "code",
   "execution_count": 10,
   "metadata": {},
   "outputs": [
    {
     "data": {
      "text/html": [
       "<div>\n",
       "<style scoped>\n",
       "    .dataframe tbody tr th:only-of-type {\n",
       "        vertical-align: middle;\n",
       "    }\n",
       "\n",
       "    .dataframe tbody tr th {\n",
       "        vertical-align: top;\n",
       "    }\n",
       "\n",
       "    .dataframe thead th {\n",
       "        text-align: right;\n",
       "    }\n",
       "</style>\n",
       "<table border=\"1\" class=\"dataframe\">\n",
       "  <thead>\n",
       "    <tr style=\"text-align: right;\">\n",
       "      <th></th>\n",
       "      <th>match_id</th>\n",
       "      <th>match_description</th>\n",
       "      <th>match_format</th>\n",
       "      <th>match_type</th>\n",
       "      <th>year</th>\n",
       "      <th>team1</th>\n",
       "      <th>team2</th>\n",
       "      <th>venue</th>\n",
       "      <th>city</th>\n",
       "    </tr>\n",
       "  </thead>\n",
       "  <tbody>\n",
       "    <tr>\n",
       "      <th>0</th>\n",
       "      <td>66169</td>\n",
       "      <td>1st Match</td>\n",
       "      <td>T20</td>\n",
       "      <td>league</td>\n",
       "      <td>2023</td>\n",
       "      <td>Gujarat Titans</td>\n",
       "      <td>Chennai Super Kings</td>\n",
       "      <td>Motera Gujarat Stadium, Sardar Patel Stadium</td>\n",
       "      <td>Ahmedabad</td>\n",
       "    </tr>\n",
       "  </tbody>\n",
       "</table>\n",
       "</div>"
      ],
      "text/plain": [
       "   match_id match_description match_format match_type  year           team1  \\\n",
       "0     66169         1st Match          T20     league  2023  Gujarat Titans   \n",
       "\n",
       "                 team2                                         venue  \\\n",
       "0  Chennai Super Kings  Motera Gujarat Stadium, Sardar Patel Stadium   \n",
       "\n",
       "        city  \n",
       "0  Ahmedabad  "
      ]
     },
     "execution_count": 10,
     "metadata": {},
     "output_type": "execute_result"
    }
   ],
   "source": [
    "match_info"
   ]
  },
  {
   "cell_type": "markdown",
   "metadata": {},
   "source": []
  },
  {
   "cell_type": "code",
   "execution_count": 11,
   "metadata": {},
   "outputs": [
    {
     "ename": "AttributeError",
     "evalue": "'DataFrame' object has no attribute 'team_name'",
     "output_type": "error",
     "traceback": [
      "\u001b[0;31m---------------------------------------------------------------------------\u001b[0m",
      "\u001b[0;31mAttributeError\u001b[0m                            Traceback (most recent call last)",
      "\u001b[0;32m/tmp/ipykernel_44881/908682550.py\u001b[0m in \u001b[0;36m?\u001b[0;34m()\u001b[0m\n\u001b[0;32m----> 1\u001b[0;31m \u001b[0mmatch_info\u001b[0m\u001b[0;34m.\u001b[0m\u001b[0mteam_name\u001b[0m\u001b[0;34m.\u001b[0m\u001b[0munique\u001b[0m\u001b[0;34m(\u001b[0m\u001b[0;34m)\u001b[0m\u001b[0;34m\u001b[0m\u001b[0;34m\u001b[0m\u001b[0m\n\u001b[0m",
      "\u001b[0;32m~/miniconda3/envs/CS6120/lib/python3.11/site-packages/pandas/core/generic.py\u001b[0m in \u001b[0;36m?\u001b[0;34m(self, name)\u001b[0m\n\u001b[1;32m   6295\u001b[0m             \u001b[0;32mand\u001b[0m \u001b[0mname\u001b[0m \u001b[0;32mnot\u001b[0m \u001b[0;32min\u001b[0m \u001b[0mself\u001b[0m\u001b[0;34m.\u001b[0m\u001b[0m_accessors\u001b[0m\u001b[0;34m\u001b[0m\u001b[0;34m\u001b[0m\u001b[0m\n\u001b[1;32m   6296\u001b[0m             \u001b[0;32mand\u001b[0m \u001b[0mself\u001b[0m\u001b[0;34m.\u001b[0m\u001b[0m_info_axis\u001b[0m\u001b[0;34m.\u001b[0m\u001b[0m_can_hold_identifiers_and_holds_name\u001b[0m\u001b[0;34m(\u001b[0m\u001b[0mname\u001b[0m\u001b[0;34m)\u001b[0m\u001b[0;34m\u001b[0m\u001b[0;34m\u001b[0m\u001b[0m\n\u001b[1;32m   6297\u001b[0m         ):\n\u001b[1;32m   6298\u001b[0m             \u001b[0;32mreturn\u001b[0m \u001b[0mself\u001b[0m\u001b[0;34m[\u001b[0m\u001b[0mname\u001b[0m\u001b[0;34m]\u001b[0m\u001b[0;34m\u001b[0m\u001b[0;34m\u001b[0m\u001b[0m\n\u001b[0;32m-> 6299\u001b[0;31m         \u001b[0;32mreturn\u001b[0m \u001b[0mobject\u001b[0m\u001b[0;34m.\u001b[0m\u001b[0m__getattribute__\u001b[0m\u001b[0;34m(\u001b[0m\u001b[0mself\u001b[0m\u001b[0;34m,\u001b[0m \u001b[0mname\u001b[0m\u001b[0;34m)\u001b[0m\u001b[0;34m\u001b[0m\u001b[0;34m\u001b[0m\u001b[0m\n\u001b[0m",
      "\u001b[0;31mAttributeError\u001b[0m: 'DataFrame' object has no attribute 'team_name'"
     ]
    }
   ],
   "source": [
    "match_info.team_name.unique()"
   ]
  },
  {
   "cell_type": "code",
   "execution_count": null,
   "metadata": {},
   "outputs": [
    {
     "data": {
      "text/plain": [
       "'Gujarat Titans'"
      ]
     },
     "execution_count": 13,
     "metadata": {},
     "output_type": "execute_result"
    }
   ],
   "source": [
    "match_info.team1.values[0]"
   ]
  },
  {
   "cell_type": "code",
   "execution_count": 17,
   "metadata": {},
   "outputs": [],
   "source": [
    "score_info = pd.read_csv('/home/snow/NEU/cricket_news/dataset/66173_match_info.csv')"
   ]
  },
  {
   "cell_type": "code",
   "execution_count": 18,
   "metadata": {},
   "outputs": [
    {
     "data": {
      "text/html": [
       "<div>\n",
       "<style scoped>\n",
       "    .dataframe tbody tr th:only-of-type {\n",
       "        vertical-align: middle;\n",
       "    }\n",
       "\n",
       "    .dataframe tbody tr th {\n",
       "        vertical-align: top;\n",
       "    }\n",
       "\n",
       "    .dataframe thead th {\n",
       "        text-align: right;\n",
       "    }\n",
       "</style>\n",
       "<table border=\"1\" class=\"dataframe\">\n",
       "  <thead>\n",
       "    <tr style=\"text-align: right;\">\n",
       "      <th></th>\n",
       "      <th>match_id</th>\n",
       "      <th>match_description</th>\n",
       "      <th>match_format</th>\n",
       "      <th>match_type</th>\n",
       "      <th>year</th>\n",
       "      <th>team1</th>\n",
       "      <th>team2</th>\n",
       "      <th>venue</th>\n",
       "      <th>city</th>\n",
       "    </tr>\n",
       "  </thead>\n",
       "  <tbody>\n",
       "    <tr>\n",
       "      <th>0</th>\n",
       "      <td>66173</td>\n",
       "      <td>2nd Match</td>\n",
       "      <td>T20</td>\n",
       "      <td>league</td>\n",
       "      <td>2023</td>\n",
       "      <td>Punjab Kings</td>\n",
       "      <td>Kolkata Knight Riders</td>\n",
       "      <td>NaN</td>\n",
       "      <td>Mohali</td>\n",
       "    </tr>\n",
       "  </tbody>\n",
       "</table>\n",
       "</div>"
      ],
      "text/plain": [
       "   match_id match_description match_format match_type  year         team1  \\\n",
       "0     66173         2nd Match          T20     league  2023  Punjab Kings   \n",
       "\n",
       "                   team2  venue    city  \n",
       "0  Kolkata Knight Riders    NaN  Mohali  "
      ]
     },
     "execution_count": 18,
     "metadata": {},
     "output_type": "execute_result"
    }
   ],
   "source": [
    "score_info"
   ]
  },
  {
   "cell_type": "code",
   "execution_count": null,
   "metadata": {},
   "outputs": [],
   "source": []
  }
 ],
 "metadata": {
  "kernelspec": {
   "display_name": "CS6120",
   "language": "python",
   "name": "python3"
  },
  "language_info": {
   "codemirror_mode": {
    "name": "ipython",
    "version": 3
   },
   "file_extension": ".py",
   "mimetype": "text/x-python",
   "name": "python",
   "nbconvert_exporter": "python",
   "pygments_lexer": "ipython3",
   "version": "3.11.8"
  }
 },
 "nbformat": 4,
 "nbformat_minor": 2
}
