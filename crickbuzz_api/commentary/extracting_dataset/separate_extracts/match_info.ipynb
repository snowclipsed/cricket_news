{
 "cells": [
  {
   "cell_type": "code",
   "execution_count": 4,
   "metadata": {},
   "outputs": [
    {
     "data": {
      "text/html": [
       "<div>\n",
       "<style scoped>\n",
       "    .dataframe tbody tr th:only-of-type {\n",
       "        vertical-align: middle;\n",
       "    }\n",
       "\n",
       "    .dataframe tbody tr th {\n",
       "        vertical-align: top;\n",
       "    }\n",
       "\n",
       "    .dataframe thead th {\n",
       "        text-align: right;\n",
       "    }\n",
       "</style>\n",
       "<table border=\"1\" class=\"dataframe\">\n",
       "  <thead>\n",
       "    <tr style=\"text-align: right;\">\n",
       "      <th></th>\n",
       "      <th>match_id</th>\n",
       "      <th>match_description</th>\n",
       "      <th>match_format</th>\n",
       "      <th>match_type</th>\n",
       "      <th>year</th>\n",
       "      <th>team1</th>\n",
       "      <th>team2</th>\n",
       "      <th>venue</th>\n",
       "      <th>city</th>\n",
       "    </tr>\n",
       "  </thead>\n",
       "  <tbody>\n",
       "    <tr>\n",
       "      <th>0</th>\n",
       "      <td>66169</td>\n",
       "      <td>1st Match</td>\n",
       "      <td>T20</td>\n",
       "      <td>league</td>\n",
       "      <td>2023</td>\n",
       "      <td>Gujarat Titans</td>\n",
       "      <td>Chennai Super Kings</td>\n",
       "      <td>Motera Gujarat Stadium, Sardar Patel Stadium</td>\n",
       "      <td>Ahmedabad</td>\n",
       "    </tr>\n",
       "  </tbody>\n",
       "</table>\n",
       "</div>"
      ],
      "text/plain": [
       "   match_id match_description match_format match_type  year           team1  \\\n",
       "0     66169         1st Match          T20     league  2023  Gujarat Titans   \n",
       "\n",
       "                 team2                                         venue  \\\n",
       "0  Chennai Super Kings  Motera Gujarat Stadium, Sardar Patel Stadium   \n",
       "\n",
       "        city  \n",
       "0  Ahmedabad  "
      ]
     },
     "execution_count": 4,
     "metadata": {},
     "output_type": "execute_result"
    }
   ],
   "source": [
    "import pandas as pd\n",
    "import os\n",
    "import json\n",
    "\n",
    "folder_path_1 = \"/Users/aishwaryaravichandran/Downloads/crickbuzz_api/commentary/match_info\"\n",
    "\n",
    "filename_1 = \"66169.json\"\n",
    "\n",
    "file_path_1 = os.path.join(folder_path_1, filename_1)\n",
    "\n",
    "with open(file_path_1, \"r\") as file:\n",
    "    json_data = json.load(file)\n",
    "\n",
    "match_data = {\n",
    "    \"match_id\": [json_data[\"matchInfo\"][\"matchId\"]],\n",
    "    \"match_description\": [json_data[\"matchInfo\"][\"matchDescription\"]],\n",
    "    \"match_format\": [json_data[\"matchInfo\"][\"matchFormat\"]],\n",
    "    \"match_type\": [json_data[\"matchInfo\"][\"matchType\"]],\n",
    "    \"year\": [json_data[\"matchInfo\"][\"year\"]],\n",
    "    \"team1\": [json_data[\"matchInfo\"][\"team1\"][\"name\"]],\n",
    "    \"team2\": [json_data[\"matchInfo\"][\"team2\"][\"name\"]],\n",
    "    \"venue\": [json_data[\"venueInfo\"][\"knownAs\"]],\n",
    "    \"city\": [json_data[\"venueInfo\"][\"city\"]],\n",
    "}\n",
    "\n",
    "# Convert the dictionary to a DataFrame\n",
    "match_df = pd.DataFrame(match_data)\n",
    "\n",
    "match_df.head(100)"
   ]
  },
  {
   "cell_type": "code",
   "execution_count": 5,
   "metadata": {},
   "outputs": [],
   "source": [
    "match_df.to_csv('/Users/aishwaryaravichandran/Downloads/crickbuzz_api/commentary/dataset/66169_match_info.csv', index=False)"
   ]
  }
 ],
 "metadata": {
  "kernelspec": {
   "display_name": "sentiment_analysis_env",
   "language": "python",
   "name": "python3"
  },
  "language_info": {
   "codemirror_mode": {
    "name": "ipython",
    "version": 3
   },
   "file_extension": ".py",
   "mimetype": "text/x-python",
   "name": "python",
   "nbconvert_exporter": "python",
   "pygments_lexer": "ipython3",
   "version": "3.11.7"
  }
 },
 "nbformat": 4,
 "nbformat_minor": 2
}
