{
 "cells": [
  {
   "cell_type": "code",
   "execution_count": 37,
   "metadata": {},
   "outputs": [],
   "source": [
    "import json\n",
    "import os\n",
    "\n",
    "folder_path = \"/Users/aishwaryaravichandran/Downloads/crickbuzz_api/commentary/api/commentary_data\"\n",
    "\n",
    "filename = \"66169.json\"\n",
    "\n",
    "file_path = os.path.join(folder_path, filename)\n",
    "\n",
    "with open(file_path, \"r\") as file:\n",
    "    json_data = json.load(file)"
   ]
  },
  {
   "cell_type": "code",
   "execution_count": 42,
   "metadata": {},
   "outputs": [
    {
     "name": "stdout",
     "output_type": "stream",
     "text": [
      "     over_number                                    commentary_data  \\\n",
      "0            NaN  \"5.52 PM The first chants of Dhoni-Dhoni!\" say...   \n",
      "1            NaN  B0$: Didn't expect to see so much yellow in Mo...   \n",
      "2            NaN  B0$: No matter whatever the stadium may be, CS...   \n",
      "3            NaN  B0$ \"More yellow than blue in this stadium tha...   \n",
      "4            NaN  B0$: @Hari agree with that, but there is defin...   \n",
      "..           ...                                                ...   \n",
      "410          NaN  B0$ Obviously very happy. We did put ourselves...   \n",
      "411          NaN  B0$ So happy to get this crucial Man of the Ma...   \n",
      "412          NaN  B0$ So happy to get this crucial Man of the Ma...   \n",
      "413          NaN  That concludes a very entertaining IPL opener....   \n",
      "414          NaN  That concludes a very entertaining IPL opener....   \n",
      "\n",
      "         timestamp  match_id  \n",
      "0    1680265850564     66169  \n",
      "1    1680265850565     66169  \n",
      "2    1680265850670     66169  \n",
      "3    1680266544080     66169  \n",
      "4    1680266544081     66169  \n",
      "..             ...       ...  \n",
      "410  1680287066499     66169  \n",
      "411  1680287468542     66169  \n",
      "412  1680287468542     66169  \n",
      "413  1680287653877     66169  \n",
      "414  1680287653877     66169  \n",
      "\n",
      "[415 rows x 4 columns]\n"
     ]
    }
   ],
   "source": [
    "import pandas as pd\n",
    "\n",
    "match_id = 66169\n",
    "\n",
    "data = [{\"over_number\": obj[\"overNumber\"] if \"overNumber\" in obj else None, \"commentary_data\": obj[\"commText\"], \"timestamp\": obj[\"timestamp\"],} for obj in json_data]\n",
    "\n",
    "data = sorted(data, key=lambda x: x[\"timestamp\"])\n",
    "\n",
    "df = pd.DataFrame(data)\n",
    "\n",
    "df['match_id'] = match_id\n",
    "\n",
    "print(df)"
   ]
  },
  {
   "cell_type": "code",
   "execution_count": 43,
   "metadata": {},
   "outputs": [
    {
     "name": "stdout",
     "output_type": "stream",
     "text": [
      "    over_number                                    commentary_data  \\\n",
      "0       preview  \"5.52 PM The first chants of Dhoni-Dhoni!\" say...   \n",
      "1       preview  B0$: Didn't expect to see so much yellow in Mo...   \n",
      "2       preview  B0$: No matter whatever the stadium may be, CS...   \n",
      "3       preview  B0$ \"More yellow than blue in this stadium tha...   \n",
      "4       preview  B0$: @Hari agree with that, but there is defin...   \n",
      "..          ...                                                ...   \n",
      "410         NaN  B0$ Obviously very happy. We did put ourselves...   \n",
      "411         NaN  B0$ So happy to get this crucial Man of the Ma...   \n",
      "412         NaN  B0$ So happy to get this crucial Man of the Ma...   \n",
      "413         NaN  That concludes a very entertaining IPL opener....   \n",
      "414         NaN  That concludes a very entertaining IPL opener....   \n",
      "\n",
      "         timestamp  match_id  \n",
      "0    1680265850564     66169  \n",
      "1    1680265850565     66169  \n",
      "2    1680265850670     66169  \n",
      "3    1680266544080     66169  \n",
      "4    1680266544081     66169  \n",
      "..             ...       ...  \n",
      "410  1680287066499     66169  \n",
      "411  1680287468542     66169  \n",
      "412  1680287468542     66169  \n",
      "413  1680287653877     66169  \n",
      "414  1680287653877     66169  \n",
      "\n",
      "[415 rows x 4 columns]\n"
     ]
    },
    {
     "name": "stderr",
     "output_type": "stream",
     "text": [
      "/var/folders/nb/sgb5l3c56gx84mnvsmg95cz00000gn/T/ipykernel_34965/548635560.py:5: FutureWarning: Setting an item of incompatible dtype is deprecated and will raise an error in a future version of pandas. Value 'preview' has dtype incompatible with float64, please explicitly cast to a compatible dtype first.\n",
      "  df.loc[:given_index - 1, \"over_number\"] = \"preview\"\n"
     ]
    }
   ],
   "source": [
    "import pandas as pd\n",
    "\n",
    "given_index = df[\"over_number\"].first_valid_index()\n",
    "\n",
    "df.loc[:given_index - 1, \"over_number\"] = \"preview\"\n",
    "\n",
    "print(df)"
   ]
  },
  {
   "cell_type": "code",
   "execution_count": 44,
   "metadata": {},
   "outputs": [
    {
     "name": "stdout",
     "output_type": "stream",
     "text": [
      "    over_number                                    commentary_data  \\\n",
      "0       preview  \"5.52 PM The first chants of Dhoni-Dhoni!\" say...   \n",
      "1       preview  B0$: Didn't expect to see so much yellow in Mo...   \n",
      "2       preview  B0$: No matter whatever the stadium may be, CS...   \n",
      "3       preview  B0$ \"More yellow than blue in this stadium tha...   \n",
      "4       preview  B0$: @Hari agree with that, but there is defin...   \n",
      "..          ...                                                ...   \n",
      "410        post  B0$ Obviously very happy. We did put ourselves...   \n",
      "411        post  B0$ So happy to get this crucial Man of the Ma...   \n",
      "412        post  B0$ So happy to get this crucial Man of the Ma...   \n",
      "413        post  That concludes a very entertaining IPL opener....   \n",
      "414        post  That concludes a very entertaining IPL opener....   \n",
      "\n",
      "         timestamp  match_id  \n",
      "0    1680265850564     66169  \n",
      "1    1680265850565     66169  \n",
      "2    1680265850670     66169  \n",
      "3    1680266544080     66169  \n",
      "4    1680266544081     66169  \n",
      "..             ...       ...  \n",
      "410  1680287066499     66169  \n",
      "411  1680287468542     66169  \n",
      "412  1680287468542     66169  \n",
      "413  1680287653877     66169  \n",
      "414  1680287653877     66169  \n",
      "\n",
      "[415 rows x 4 columns]\n"
     ]
    }
   ],
   "source": [
    "index = df[\"over_number\"].last_valid_index()\n",
    "\n",
    "df.loc[index + 1:, \"over_number\"] = \"post\"\n",
    "\n",
    "print(df)"
   ]
  },
  {
   "cell_type": "code",
   "execution_count": 45,
   "metadata": {},
   "outputs": [
    {
     "name": "stdout",
     "output_type": "stream",
     "text": [
      "    over_number                                    commentary_data  \\\n",
      "0       preview  \"5.52 PM The first chants of Dhoni-Dhoni!\" say...   \n",
      "1       preview  B0$: Didn't expect to see so much yellow in Mo...   \n",
      "2       preview  B0$: No matter whatever the stadium may be, CS...   \n",
      "3       preview  B0$ \"More yellow than blue in this stadium tha...   \n",
      "4       preview  B0$: @Hari agree with that, but there is defin...   \n",
      "..          ...                                                ...   \n",
      "410        post  B0$ Obviously very happy. We did put ourselves...   \n",
      "411        post  B0$ So happy to get this crucial Man of the Ma...   \n",
      "412        post  B0$ So happy to get this crucial Man of the Ma...   \n",
      "413        post  That concludes a very entertaining IPL opener....   \n",
      "414        post  That concludes a very entertaining IPL opener....   \n",
      "\n",
      "         timestamp  match_id  \n",
      "0    1680265850564     66169  \n",
      "1    1680265850565     66169  \n",
      "2    1680265850670     66169  \n",
      "3    1680266544080     66169  \n",
      "4    1680266544081     66169  \n",
      "..             ...       ...  \n",
      "410  1680287066499     66169  \n",
      "411  1680287468542     66169  \n",
      "412  1680287468542     66169  \n",
      "413  1680287653877     66169  \n",
      "414  1680287653877     66169  \n",
      "\n",
      "[415 rows x 4 columns]\n"
     ]
    }
   ],
   "source": [
    "none_indices = df.index[df[\"over_number\"].isnull()]\n",
    "\n",
    "for none_index in none_indices:\n",
    "    prev_non_none_index = df.loc[:none_index, \"over_number\"].last_valid_index()\n",
    "    if prev_non_none_index is not None:\n",
    "        df.at[none_index, \"over_number\"] = df.at[prev_non_none_index, \"over_number\"]\n",
    "\n",
    "print(df)"
   ]
  },
  {
   "cell_type": "code",
   "execution_count": 46,
   "metadata": {},
   "outputs": [
    {
     "name": "stdout",
     "output_type": "stream",
     "text": [
      "    over_number                                    commentary_data  \\\n",
      "0       preview  \" The first chants of Dhoni-Dhoni!\" says a rel...   \n",
      "1       preview     Didn't expect to see so much yellow in Motera!   \n",
      "2       preview   No matter whatever the stadium may be, CSK fa...   \n",
      "3       preview   \"More yellow than blue in this stadium that's...   \n",
      "4       preview   Hari agree with that, but there is definitely...   \n",
      "..          ...                                                ...   \n",
      "410        post   Obviously very happy. We did put ourselves in...   \n",
      "411        post   So happy to get this crucial Man of the Match...   \n",
      "412        post   So happy to get this crucial Man of the Match...   \n",
      "413        post  That concludes a very entertaining IPL opener....   \n",
      "414        post  That concludes a very entertaining IPL opener....   \n",
      "\n",
      "         timestamp  match_id  \n",
      "0    1680265850564     66169  \n",
      "1    1680265850565     66169  \n",
      "2    1680265850670     66169  \n",
      "3    1680266544080     66169  \n",
      "4    1680266544081     66169  \n",
      "..             ...       ...  \n",
      "410  1680287066499     66169  \n",
      "411  1680287468542     66169  \n",
      "412  1680287468542     66169  \n",
      "413  1680287653877     66169  \n",
      "414  1680287653877     66169  \n",
      "\n",
      "[415 rows x 4 columns]\n"
     ]
    }
   ],
   "source": [
    "pattern_1 = r'\\b\\d{1,2}\\.\\d{2}\\s*(?:AM|PM)?\\b'\n",
    "\n",
    "df['commentary_data'] = df['commentary_data'].str.replace(pattern_1, '', regex=True)\n",
    "\n",
    "pattern_2 = r'\\bB\\S*\\:'\n",
    "\n",
    "df['commentary_data'] = df['commentary_data'].str.replace(pattern_2, '', regex=True)\n",
    "\n",
    "pattern_3 = r'\\bB\\S*\\$'\n",
    "\n",
    "df['commentary_data'] = df['commentary_data'].str.replace(pattern_3, '', regex=True)\n",
    "\n",
    "pattern_4 = r'@'\n",
    "\n",
    "df['commentary_data'] = df['commentary_data'].str.replace(pattern_4, '', regex=True)\n",
    "\n",
    "pattern_5 = r'.*\\\\n.*'\n",
    "\n",
    "df['commentary_data'] = df['commentary_data'].str.replace(pattern_5, '', regex=True)\n",
    "\n",
    "df = df.dropna(subset=['commentary_data'])\n",
    "\n",
    "print(df)"
   ]
  },
  {
   "cell_type": "code",
   "execution_count": 35,
   "metadata": {},
   "outputs": [],
   "source": [
    "\n",
    "df.to_csv('/Users/aishwaryaravichandran/Downloads/crickbuzz_api/commentary/dataset/66169_commentary.csv', index=False)"
   ]
  }
 ],
 "metadata": {
  "kernelspec": {
   "display_name": "sentiment_analysis_env",
   "language": "python",
   "name": "python3"
  },
  "language_info": {
   "codemirror_mode": {
    "name": "ipython",
    "version": 3
   },
   "file_extension": ".py",
   "mimetype": "text/x-python",
   "name": "python",
   "nbconvert_exporter": "python",
   "pygments_lexer": "ipython3",
   "version": "3.11.7"
  }
 },
 "nbformat": 4,
 "nbformat_minor": 2
}
